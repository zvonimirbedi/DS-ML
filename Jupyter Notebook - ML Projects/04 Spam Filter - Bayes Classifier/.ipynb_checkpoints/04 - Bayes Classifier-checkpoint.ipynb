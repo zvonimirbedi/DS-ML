{
 "cells": [
  {
   "cell_type": "markdown",
   "metadata": {},
   "source": [
    "## Notebook Imports"
   ]
  },
  {
   "cell_type": "code",
   "execution_count": 275,
   "metadata": {},
   "outputs": [],
   "source": [
    "import pandas as pd\n",
    "import matplotlib.pyplot as plt\n",
    "import nltk\n",
    "\n",
    "from os import walk\n",
    "from os.path import join\n",
    "from nltk.stem import PorterStemmer\n",
    "from nltk.stem import SnowballStemmer\n",
    "from nltk.corpus import stopwords\n",
    "from nltk.tokenize import word_tokenize\n",
    "\n",
    "from bs4 import BeautifulSoup\n",
    "\n",
    "%matplotlib inline"
   ]
  },
  {
   "cell_type": "markdown",
   "metadata": {},
   "source": [
    "## Constants"
   ]
  },
  {
   "cell_type": "code",
   "execution_count": 276,
   "metadata": {},
   "outputs": [],
   "source": [
    "FILE_01 = \"C:/Users/BediZ/DS-ML/Jupyter Notebook - ML Projects/resources/SpamData/01_Processing/practice_email.txt\"\n",
    "\n",
    "SPAM_1_PATH = \"C:/Users/BediZ/DS-ML/Jupyter Notebook - ML Projects/resources/SpamData/01_Processing/spam_assassin_corpus/spam_1\"\n",
    "SPAM_2_PATH = \"C:/Users/BediZ/DS-ML/Jupyter Notebook - ML Projects/resources/SpamData/01_Processing/spam_assassin_corpus/spam_2\"\n",
    "EASY_NONSPAM_1_PATH = \"C:/Users/BediZ/DS-ML/Jupyter Notebook - ML Projects/resources/SpamData/01_Processing/spam_assassin_corpus/easy_ham_1\"\n",
    "EASY_NONSPAM_2_PATH = \"C:/Users/BediZ/DS-ML/Jupyter Notebook - ML Projects/resources/SpamData/01_Processing/spam_assassin_corpus/easy_ham_2\"\n",
    "\n",
    "HAM_NONSPAM_CATEGORY = 0\n",
    "SPAM_CATEGORY = 1\n",
    "\n",
    "ALL_EMAIL_JSON_FILE = \"C:/Users/BediZ/DS-ML/Jupyter Notebook - ML Projects/resources/SpamData/01_Processing/all-email-body-text-data.json\""
   ]
  },
  {
   "cell_type": "markdown",
   "metadata": {},
   "source": [
    "# Reading files"
   ]
  },
  {
   "cell_type": "code",
   "execution_count": 277,
   "metadata": {
    "scrolled": true
   },
   "outputs": [
    {
     "name": "stdout",
     "output_type": "stream",
     "text": [
      "\n",
      "\n",
      "Dear Mr Still\n",
      "\n",
      "\n",
      "\n",
      "Good tidings to you and all your staff for the festive season ahead (Christmas).\n",
      "\n",
      "Now to the crux of the matter-in-hand: I am a fully qualified Santa Claus and am wondering whether you might consider me to run my own \"Santa's Grotto\" in your store.\n",
      "\n",
      "But WAIT! You're probably thinking: \"What makes him so special?\"\n",
      "\n",
      "Well, first of all, I have made several changes to the characterisation of Father Christmas. Rather than greeting the children with shouts of \"Ho, ho, ho!\" I prefer to whisper the phrase \"Dependence is not unfathomable in this cruel world we live in\". In addition, my gifts are ALL hand-made, ranging from felt hoops to vanilla-pod holders.\n",
      "\n",
      "You will note also, from the enclosed sketch, that I have radically redesigned Santa's outfit and have renamed my character \"Lord Buckles\". Would you be interested in employing me? I promise NEVER to let you down.\n",
      "\n",
      "I look forward to hearing from you.\n",
      "\n",
      "\n",
      "\n",
      "Best wishes\n",
      "\n",
      "Robin Cooper\n",
      "\n",
      "[Excerpt from the book: The Timewaster Letters by Robin Cooper]\n",
      "\n"
     ]
    }
   ],
   "source": [
    "stream = open(FILE_01, encoding='latin-1')\n",
    "#message = stream.read()\n",
    "#print('Message type: ', type(message), '\\n\\n')\n",
    "#print(message)\n",
    "\n",
    "is_body = False\n",
    "body_lines = []\n",
    "\n",
    "for line in stream:\n",
    "    if is_body:\n",
    "        body_lines.append(line)\n",
    "    elif line == '\\n':\n",
    "        is_body = True       \n",
    "    \n",
    "stream.close()\n",
    "\n",
    "email_body = '\\n'.join(body_lines)\n",
    "\n",
    "print(email_body)\n"
   ]
  },
  {
   "cell_type": "markdown",
   "metadata": {},
   "source": [
    "## Generator Functions"
   ]
  },
  {
   "cell_type": "code",
   "execution_count": 278,
   "metadata": {},
   "outputs": [],
   "source": [
    "def generate_squares(N):\n",
    "    for my_number in range(N):\n",
    "        yield my_number **2       "
   ]
  },
  {
   "cell_type": "code",
   "execution_count": 279,
   "metadata": {},
   "outputs": [
    {
     "name": "stdout",
     "output_type": "stream",
     "text": [
      "0 -> 1 -> 4 -> 9 -> 16 -> "
     ]
    }
   ],
   "source": [
    "for i in generate_squares(5):\n",
    "    print(i, end=' -> ')"
   ]
  },
  {
   "cell_type": "markdown",
   "metadata": {},
   "source": [
    "## Email Body Extraction"
   ]
  },
  {
   "cell_type": "code",
   "execution_count": 280,
   "metadata": {},
   "outputs": [],
   "source": [
    "def email_body_generator(path):\n",
    "    for root, dirnames, filenames in walk(path):\n",
    "        for file_name in filenames:\n",
    "            \n",
    "            filepath = join(root, file_name)\n",
    "            stream = open(filepath, encoding='latin-1')\n",
    "\n",
    "            is_body = False\n",
    "            body_lines = []\n",
    "\n",
    "            for line in stream:\n",
    "                if is_body:\n",
    "                    body_lines.append(line)\n",
    "                elif line == '\\n':\n",
    "                    is_body = True       \n",
    "\n",
    "            stream.close()\n",
    "\n",
    "            email_body = '\\n'.join(body_lines)\n",
    "\n",
    "            yield file_name, email_body"
   ]
  },
  {
   "cell_type": "code",
   "execution_count": 281,
   "metadata": {},
   "outputs": [],
   "source": [
    "def data_frame_from_directory(path, classification):\n",
    "    rows = []\n",
    "    row_names = []\n",
    "    \n",
    "    for file_name, email_body in email_body_generator(path):\n",
    "        rows.append({'MESSAGE': email_body, 'CATEGORY': classification})\n",
    "        row_names.append(file_name)\n",
    "        \n",
    "    return pd.DataFrame(rows, index = row_names)"
   ]
  },
  {
   "cell_type": "code",
   "execution_count": 282,
   "metadata": {},
   "outputs": [
    {
     "data": {
      "text/plain": [
       "(1898, 2)"
      ]
     },
     "execution_count": 282,
     "metadata": {},
     "output_type": "execute_result"
    }
   ],
   "source": [
    "spam_emails = data_frame_from_directory(SPAM_1_PATH, SPAM_CATEGORY)\n",
    "spam_emails = spam_emails.append(data_frame_from_directory(SPAM_2_PATH, SPAM_CATEGORY))\n",
    "#spam_emails.head()\n",
    "spam_emails.shape"
   ]
  },
  {
   "cell_type": "code",
   "execution_count": 283,
   "metadata": {},
   "outputs": [
    {
     "data": {
      "text/plain": [
       "(3298, 2)"
      ]
     },
     "execution_count": 283,
     "metadata": {},
     "output_type": "execute_result"
    }
   ],
   "source": [
    "nonspam_ham_emails = data_frame_from_directory(EASY_NONSPAM_1_PATH, HAM_NONSPAM_CATEGORY)\n",
    "nonspam_ham_emails = spam_emails.append(data_frame_from_directory(EASY_NONSPAM_2_PATH, HAM_NONSPAM_CATEGORY))\n",
    "#nonspam_ham_emails.head()\n",
    "nonspam_ham_emails.shape"
   ]
  },
  {
   "cell_type": "code",
   "execution_count": 284,
   "metadata": {},
   "outputs": [
    {
     "name": "stdout",
     "output_type": "stream",
     "text": [
      "Shape of all emails is:  (5196, 2)\n"
     ]
    },
    {
     "data": {
      "text/html": [
       "<div>\n",
       "<style scoped>\n",
       "    .dataframe tbody tr th:only-of-type {\n",
       "        vertical-align: middle;\n",
       "    }\n",
       "\n",
       "    .dataframe tbody tr th {\n",
       "        vertical-align: top;\n",
       "    }\n",
       "\n",
       "    .dataframe thead th {\n",
       "        text-align: right;\n",
       "    }\n",
       "</style>\n",
       "<table border=\"1\" class=\"dataframe\">\n",
       "  <thead>\n",
       "    <tr style=\"text-align: right;\">\n",
       "      <th></th>\n",
       "      <th>MESSAGE</th>\n",
       "      <th>CATEGORY</th>\n",
       "    </tr>\n",
       "  </thead>\n",
       "  <tbody>\n",
       "    <tr>\n",
       "      <td>00001.7848dde101aa985090474a91ec93fcf0</td>\n",
       "      <td>&lt;!DOCTYPE HTML PUBLIC \"-//W3C//DTD HTML 4.0 Tr...</td>\n",
       "      <td>1</td>\n",
       "    </tr>\n",
       "    <tr>\n",
       "      <td>00002.d94f1b97e48ed3b553b3508d116e6a09</td>\n",
       "      <td>1) Fight The Risk of Cancer!\\n\\nhttp://www.adc...</td>\n",
       "      <td>1</td>\n",
       "    </tr>\n",
       "    <tr>\n",
       "      <td>00003.2ee33bc6eacdb11f38d052c44819ba6c</td>\n",
       "      <td>1) Fight The Risk of Cancer!\\n\\nhttp://www.adc...</td>\n",
       "      <td>1</td>\n",
       "    </tr>\n",
       "    <tr>\n",
       "      <td>00004.eac8de8d759b7e74154f142194282724</td>\n",
       "      <td>##############################################...</td>\n",
       "      <td>1</td>\n",
       "    </tr>\n",
       "    <tr>\n",
       "      <td>00005.57696a39d7d84318ce497886896bf90d</td>\n",
       "      <td>I thought you might like these:\\n\\n1) Slim Dow...</td>\n",
       "      <td>1</td>\n",
       "    </tr>\n",
       "  </tbody>\n",
       "</table>\n",
       "</div>"
      ],
      "text/plain": [
       "                                                                                  MESSAGE  \\\n",
       "00001.7848dde101aa985090474a91ec93fcf0  <!DOCTYPE HTML PUBLIC \"-//W3C//DTD HTML 4.0 Tr...   \n",
       "00002.d94f1b97e48ed3b553b3508d116e6a09  1) Fight The Risk of Cancer!\\n\\nhttp://www.adc...   \n",
       "00003.2ee33bc6eacdb11f38d052c44819ba6c  1) Fight The Risk of Cancer!\\n\\nhttp://www.adc...   \n",
       "00004.eac8de8d759b7e74154f142194282724  ##############################################...   \n",
       "00005.57696a39d7d84318ce497886896bf90d  I thought you might like these:\\n\\n1) Slim Dow...   \n",
       "\n",
       "                                        CATEGORY  \n",
       "00001.7848dde101aa985090474a91ec93fcf0         1  \n",
       "00002.d94f1b97e48ed3b553b3508d116e6a09         1  \n",
       "00003.2ee33bc6eacdb11f38d052c44819ba6c         1  \n",
       "00004.eac8de8d759b7e74154f142194282724         1  \n",
       "00005.57696a39d7d84318ce497886896bf90d         1  "
      ]
     },
     "execution_count": 284,
     "metadata": {},
     "output_type": "execute_result"
    }
   ],
   "source": [
    "all_emails = pd.concat([spam_emails, nonspam_ham_emails])\n",
    "print ('Shape of all emails is: ', all_emails.shape)\n",
    "all_emails.head()"
   ]
  },
  {
   "cell_type": "markdown",
   "metadata": {},
   "source": [
    "## Data Cleaning: Checking for Missing Values"
   ]
  },
  {
   "cell_type": "code",
   "execution_count": 285,
   "metadata": {},
   "outputs": [
    {
     "data": {
      "text/plain": [
       "False"
      ]
     },
     "execution_count": 285,
     "metadata": {},
     "output_type": "execute_result"
    }
   ],
   "source": [
    "# check if any message bodies are missing (is null)\n",
    "# all_emails.MESSAGE\n",
    "# all_emails['MESSAGE']\n",
    "# check email messages are null, print true or false (any() print true or false if any 'MESSAGE' row is null)\n",
    "all_emails['MESSAGE'].isnull().values.any()"
   ]
  },
  {
   "cell_type": "code",
   "execution_count": 286,
   "metadata": {},
   "outputs": [
    {
     "data": {
      "text/plain": [
       "NoneType"
      ]
     },
     "execution_count": 286,
     "metadata": {},
     "output_type": "execute_result"
    }
   ],
   "source": [
    "my_var = None # non is null\n",
    "type(my_var)"
   ]
  },
  {
   "cell_type": "code",
   "execution_count": 287,
   "metadata": {},
   "outputs": [
    {
     "data": {
      "text/plain": [
       "True"
      ]
     },
     "execution_count": 287,
     "metadata": {},
     "output_type": "execute_result"
    }
   ],
   "source": [
    "# Check if there are any empty emails (string length is 0)\n",
    "(all_emails.MESSAGE.str.len()== 0).any() "
   ]
  },
  {
   "cell_type": "code",
   "execution_count": 288,
   "metadata": {},
   "outputs": [
    {
     "data": {
      "text/plain": [
       "4"
      ]
     },
     "execution_count": 288,
     "metadata": {},
     "output_type": "execute_result"
    }
   ],
   "source": [
    "(all_emails.MESSAGE.str.len()== 0).sum()"
   ]
  },
  {
   "cell_type": "code",
   "execution_count": 289,
   "metadata": {},
   "outputs": [
    {
     "data": {
      "text/plain": [
       "0"
      ]
     },
     "execution_count": 289,
     "metadata": {},
     "output_type": "execute_result"
    }
   ],
   "source": [
    "# Challenge: how would you check the number of entrie with null/None values=\n",
    "all_emails.MESSAGE.isnull().sum()"
   ]
  },
  {
   "cell_type": "markdown",
   "metadata": {},
   "source": [
    "## Locate empty emails"
   ]
  },
  {
   "cell_type": "code",
   "execution_count": 290,
   "metadata": {},
   "outputs": [
    {
     "data": {
      "text/plain": [
       "pandas.core.series.Series"
      ]
     },
     "execution_count": 290,
     "metadata": {},
     "output_type": "execute_result"
    }
   ],
   "source": [
    "type(all_emails.MESSAGE.str.len() == 0)"
   ]
  },
  {
   "cell_type": "code",
   "execution_count": 291,
   "metadata": {},
   "outputs": [
    {
     "data": {
      "text/plain": [
       "'cmds'"
      ]
     },
     "execution_count": 291,
     "metadata": {},
     "output_type": "execute_result"
    }
   ],
   "source": [
    "all_emails[all_emails.MESSAGE.str.len() == 0].index[0]"
   ]
  },
  {
   "cell_type": "code",
   "execution_count": 292,
   "metadata": {},
   "outputs": [
    {
     "data": {
      "text/plain": [
       "array([False, False, False, ..., False, False, False])"
      ]
     },
     "execution_count": 292,
     "metadata": {},
     "output_type": "execute_result"
    }
   ],
   "source": [
    "all_emails.index.get_loc('cmds')"
   ]
  },
  {
   "cell_type": "code",
   "execution_count": 293,
   "metadata": {},
   "outputs": [
    {
     "data": {
      "text/plain": [
       "(5192, 2)"
      ]
     },
     "execution_count": 293,
     "metadata": {},
     "output_type": "execute_result"
    }
   ],
   "source": [
    "## Remove system file Entries from Dataframe\n",
    "all_emails.drop([all_emails[all_emails.MESSAGE.str.len() == 0].index[0]], inplace=True) \n",
    "# inplace is True to drop it in current all_emails variable\n",
    "all_emails.shape"
   ]
  },
  {
   "cell_type": "markdown",
   "metadata": {},
   "source": [
    "## Add Document IDs to Track Emails in Dataset"
   ]
  },
  {
   "cell_type": "code",
   "execution_count": 294,
   "metadata": {},
   "outputs": [
    {
     "data": {
      "text/html": [
       "<div>\n",
       "<style scoped>\n",
       "    .dataframe tbody tr th:only-of-type {\n",
       "        vertical-align: middle;\n",
       "    }\n",
       "\n",
       "    .dataframe tbody tr th {\n",
       "        vertical-align: top;\n",
       "    }\n",
       "\n",
       "    .dataframe thead th {\n",
       "        text-align: right;\n",
       "    }\n",
       "</style>\n",
       "<table border=\"1\" class=\"dataframe\">\n",
       "  <thead>\n",
       "    <tr style=\"text-align: right;\">\n",
       "      <th></th>\n",
       "      <th>MESSAGE</th>\n",
       "      <th>CATEGORY</th>\n",
       "      <th>FILE_NAME</th>\n",
       "    </tr>\n",
       "    <tr>\n",
       "      <th>DOC_ID</th>\n",
       "      <th></th>\n",
       "      <th></th>\n",
       "      <th></th>\n",
       "    </tr>\n",
       "  </thead>\n",
       "  <tbody>\n",
       "    <tr>\n",
       "      <td>0</td>\n",
       "      <td>&lt;!DOCTYPE HTML PUBLIC \"-//W3C//DTD HTML 4.0 Tr...</td>\n",
       "      <td>1</td>\n",
       "      <td>00001.7848dde101aa985090474a91ec93fcf0</td>\n",
       "    </tr>\n",
       "    <tr>\n",
       "      <td>1</td>\n",
       "      <td>1) Fight The Risk of Cancer!\\n\\nhttp://www.adc...</td>\n",
       "      <td>1</td>\n",
       "      <td>00002.d94f1b97e48ed3b553b3508d116e6a09</td>\n",
       "    </tr>\n",
       "    <tr>\n",
       "      <td>2</td>\n",
       "      <td>1) Fight The Risk of Cancer!\\n\\nhttp://www.adc...</td>\n",
       "      <td>1</td>\n",
       "      <td>00003.2ee33bc6eacdb11f38d052c44819ba6c</td>\n",
       "    </tr>\n",
       "    <tr>\n",
       "      <td>3</td>\n",
       "      <td>##############################################...</td>\n",
       "      <td>1</td>\n",
       "      <td>00004.eac8de8d759b7e74154f142194282724</td>\n",
       "    </tr>\n",
       "    <tr>\n",
       "      <td>4</td>\n",
       "      <td>I thought you might like these:\\n\\n1) Slim Dow...</td>\n",
       "      <td>1</td>\n",
       "      <td>00005.57696a39d7d84318ce497886896bf90d</td>\n",
       "    </tr>\n",
       "  </tbody>\n",
       "</table>\n",
       "</div>"
      ],
      "text/plain": [
       "                                                  MESSAGE  CATEGORY  \\\n",
       "DOC_ID                                                                \n",
       "0       <!DOCTYPE HTML PUBLIC \"-//W3C//DTD HTML 4.0 Tr...         1   \n",
       "1       1) Fight The Risk of Cancer!\\n\\nhttp://www.adc...         1   \n",
       "2       1) Fight The Risk of Cancer!\\n\\nhttp://www.adc...         1   \n",
       "3       ##############################################...         1   \n",
       "4       I thought you might like these:\\n\\n1) Slim Dow...         1   \n",
       "\n",
       "                                     FILE_NAME  \n",
       "DOC_ID                                          \n",
       "0       00001.7848dde101aa985090474a91ec93fcf0  \n",
       "1       00002.d94f1b97e48ed3b553b3508d116e6a09  \n",
       "2       00003.2ee33bc6eacdb11f38d052c44819ba6c  \n",
       "3       00004.eac8de8d759b7e74154f142194282724  \n",
       "4       00005.57696a39d7d84318ce497886896bf90d  "
      ]
     },
     "execution_count": 294,
     "metadata": {},
     "output_type": "execute_result"
    }
   ],
   "source": [
    "document_ids = range(0, len(all_emails.index))\n",
    "all_emails ['DOC_ID'] = document_ids\n",
    "all_emails ['FILE_NAME'] = all_emails.index\n",
    "all_emails.set_index('DOC_ID', inplace=True)\n",
    "all_emails.head()"
   ]
  },
  {
   "cell_type": "markdown",
   "metadata": {},
   "source": [
    "## Save to File using Pandas"
   ]
  },
  {
   "cell_type": "code",
   "execution_count": 295,
   "metadata": {},
   "outputs": [],
   "source": [
    "all_emails.to_json(ALL_EMAIL_JSON_FILE)"
   ]
  },
  {
   "cell_type": "markdown",
   "metadata": {},
   "source": [
    "## Number of Spam Messages Visualized - Pie Charts"
   ]
  },
  {
   "cell_type": "code",
   "execution_count": 296,
   "metadata": {},
   "outputs": [
    {
     "data": {
      "text/plain": [
       "1    3792\n",
       "0    1400\n",
       "Name: CATEGORY, dtype: int64"
      ]
     },
     "execution_count": 296,
     "metadata": {},
     "output_type": "execute_result"
    }
   ],
   "source": [
    "all_emails.CATEGORY.value_counts()"
   ]
  },
  {
   "cell_type": "code",
   "execution_count": 297,
   "metadata": {},
   "outputs": [],
   "source": [
    "amount_of_spam_emails = all_emails.CATEGORY.value_counts()[1]\n",
    "amount_of_ham_emails = all_emails.CATEGORY.value_counts()[0]"
   ]
  },
  {
   "cell_type": "code",
   "execution_count": 298,
   "metadata": {},
   "outputs": [
    {
     "data": {
      "image/png": "[encoded data removed]",
      "text/plain": [
       "<Figure size 400x400 with 1 Axes>"
      ]
     },
     "metadata": {},
     "output_type": "display_data"
    }
   ],
   "source": [
    "category_names = ['Spam', 'Legit Email']\n",
    "sizes = [amount_of_spam_emails, amount_of_ham_emails]\n",
    "\n",
    "plt.figure(figsize=(2,2), dpi = 200)\n",
    "plt.pie(sizes, labels = category_names, textprops={'fontsize': 6}, startangle=90, autopct='%1.2f%%')\n",
    "plt.show()"
   ]
  },
  {
   "cell_type": "code",
   "execution_count": 299,
   "metadata": {},
   "outputs": [
    {
     "data": {
      "image/png": "[encoded data removed]",
      "text/plain": [
       "<Figure size 600x600 with 1 Axes>"
      ]
     },
     "metadata": {},
     "output_type": "display_data"
    }
   ],
   "source": [
    "#Style the Chart\n",
    "\n",
    "category_names = ['Spam', 'Legit Email', 'Updates', 'Promotions']\n",
    "#sizes = [amount_of_spam_emails, amount_of_ham_emails]\n",
    "sizes = [70,43,19,22]\n",
    "custom_pie_chart_colors = ['#ff7675', '#74b9ff','#55efc4','#ffeaa7']\n",
    "offset = [0.05, 0.05, 0.05, 0.05]\n",
    "\n",
    "plt.figure(figsize=(3,3), dpi = 200)\n",
    "plt.pie(sizes, labels = category_names, \n",
    "        textprops={'fontsize': 6}, \n",
    "        startangle=90, \n",
    "        autopct='%1.2f%%', \n",
    "        colors = custom_pie_chart_colors,\n",
    "        pctdistance = 0.8,\n",
    "        explode = offset\n",
    "       )\n",
    "\n",
    "# Draw a circle\n",
    "center_cicrcle = plt.Circle((0,0), radius = 0.6, fc='white')\n",
    "plt.gca().add_artist(center_cicrcle)\n",
    "\n",
    "plt.show()"
   ]
  },
  {
   "cell_type": "markdown",
   "metadata": {},
   "source": [
    "## Natural Language Processing - NLP"
   ]
  },
  {
   "cell_type": "markdown",
   "metadata": {},
   "source": [
    "### Text Pre-Processing"
   ]
  },
  {
   "cell_type": "code",
   "execution_count": 300,
   "metadata": {},
   "outputs": [
    {
     "data": {
      "text/plain": [
       "'all work and no play makes jack a dull boy.'"
      ]
     },
     "execution_count": 300,
     "metadata": {},
     "output_type": "execute_result"
    }
   ],
   "source": [
    "msg = 'All work and no play makes Jack a dull boy.'\n",
    "msg.lower()"
   ]
  },
  {
   "cell_type": "markdown",
   "metadata": {},
   "source": [
    "### Download NLTK Resources (Tokenize & Stopwords)"
   ]
  },
  {
   "cell_type": "code",
   "execution_count": 301,
   "metadata": {},
   "outputs": [
    {
     "name": "stderr",
     "output_type": "stream",
     "text": [
      "[nltk_data] Downloading package punkt to\n",
      "[nltk_data]     C:\\Users\\BediZ\\AppData\\Roaming\\nltk_data...\n",
      "[nltk_data]   Package punkt is already up-to-date!\n"
     ]
    },
    {
     "data": {
      "text/plain": [
       "True"
      ]
     },
     "execution_count": 301,
     "metadata": {},
     "output_type": "execute_result"
    }
   ],
   "source": [
    "nltk.download('punkt')"
   ]
  },
  {
   "cell_type": "code",
   "execution_count": 302,
   "metadata": {},
   "outputs": [
    {
     "name": "stderr",
     "output_type": "stream",
     "text": [
      "[nltk_data] Downloading package stopwords to\n",
      "[nltk_data]     C:\\Users\\BediZ\\AppData\\Roaming\\nltk_data...\n",
      "[nltk_data]   Package stopwords is already up-to-date!\n"
     ]
    },
    {
     "data": {
      "text/plain": [
       "True"
      ]
     },
     "execution_count": 302,
     "metadata": {},
     "output_type": "execute_result"
    }
   ],
   "source": [
    "nltk.download('stopwords')"
   ]
  },
  {
   "cell_type": "markdown",
   "metadata": {},
   "source": [
    "### Tokenise"
   ]
  },
  {
   "cell_type": "code",
   "execution_count": 303,
   "metadata": {},
   "outputs": [
    {
     "data": {
      "text/plain": [
       "['All', 'work', 'and', 'no', 'play', 'makes', 'Jack', 'a', 'dull', 'boy', '.']"
      ]
     },
     "execution_count": 303,
     "metadata": {},
     "output_type": "execute_result"
    }
   ],
   "source": [
    "msg = 'All work and no play makes Jack a dull boy.'\n",
    "word_tokenize(msg)"
   ]
  },
  {
   "cell_type": "markdown",
   "metadata": {},
   "source": [
    "### Removing Stop Words"
   ]
  },
  {
   "cell_type": "code",
   "execution_count": 304,
   "metadata": {},
   "outputs": [
    {
     "data": {
      "text/plain": [
       "set"
      ]
     },
     "execution_count": 304,
     "metadata": {},
     "output_type": "execute_result"
    }
   ],
   "source": [
    "stopwords.words('english')\n",
    "type(stopwords.words('english'))\n",
    "stop_words_set = set(stopwords.words('english'))\n",
    "type(stop_words_set)"
   ]
  },
  {
   "cell_type": "code",
   "execution_count": 305,
   "metadata": {},
   "outputs": [
    {
     "name": "stdout",
     "output_type": "stream",
     "text": [
      "word 'this' is in the 'stop_words_set'.\n",
      "word 'hello' is not in the 'stop_words_set'.\n"
     ]
    }
   ],
   "source": [
    "if 'this' in stop_words_set:\n",
    "    print('word \\'this\\' is in the \\'stop_words_set\\'.')\n",
    "if 'hello' not in stop_words_set:\n",
    "    print('word \\'hello\\' is not in the \\'stop_words_set\\'.')"
   ]
  },
  {
   "cell_type": "code",
   "execution_count": 306,
   "metadata": {},
   "outputs": [
    {
     "name": "stdout",
     "output_type": "stream",
     "text": [
      "['work', 'play', 'makes', 'jack', 'dull', 'boy', '.', '.']\n"
     ]
    }
   ],
   "source": [
    "msg = 'All work and no play makes Jack a dull boy. To be or not to be.'\n",
    "msg_tokenize_lower = word_tokenize(msg.lower())\n",
    "\n",
    "filtered_msg_tokenize_lower = []\n",
    "\n",
    "for filtered_word in msg_tokenize_lower:\n",
    "    if filtered_word not in stop_words_set:\n",
    "        filtered_msg_tokenize_lower.append(filtered_word)\n",
    "print(filtered_msg_tokenize_lower)"
   ]
  },
  {
   "cell_type": "markdown",
   "metadata": {},
   "source": [
    "### Word Stems and Stemmng"
   ]
  },
  {
   "cell_type": "code",
   "execution_count": 307,
   "metadata": {},
   "outputs": [
    {
     "name": "stdout",
     "output_type": "stream",
     "text": [
      "['work', 'play', 'make', 'jack', 'dull', 'boy', '.', '.', 'nobodi', 'expect', 'spanish', 'inquisit', '!']\n"
     ]
    }
   ],
   "source": [
    "msg = 'All work and no play makes Jack a dull boy. To be or not to be. \\\n",
    "    Nobody Expects the Spanish Inquisition!'\n",
    "msg_tokenize_lower = word_tokenize(msg.lower())\n",
    "\n",
    "# stemmer = PorterStemmer()\n",
    "stemmer = SnowballStemmer('english')\n",
    "\n",
    "filtered_msg_tokenize_lower = []\n",
    "\n",
    "for filtered_word in msg_tokenize_lower:\n",
    "    stemmed_filtered_word = stemmer.stem(filtered_word)\n",
    "    if stemmed_filtered_word not in stop_words_set:\n",
    "        filtered_msg_tokenize_lower.append(stemmed_filtered_word)\n",
    "print(filtered_msg_tokenize_lower)"
   ]
  },
  {
   "cell_type": "markdown",
   "metadata": {},
   "source": [
    "### Removing Punctuation"
   ]
  },
  {
   "cell_type": "code",
   "execution_count": 308,
   "metadata": {},
   "outputs": [
    {
     "name": "stdout",
     "output_type": "stream",
     "text": [
      "Is alpha 'p':  True\n",
      "Is alpha '!':  False\n",
      "Is alpha '5':  False\n",
      "Is alpha 'asdads':  True\n",
      "Is alpha 'asda4ds':  False\n"
     ]
    }
   ],
   "source": [
    "print('Is alpha \\'p\\': ', 'p'.isalpha())\n",
    "print('Is alpha \\'!\\': ', '!'.isalpha())\n",
    "print('Is alpha \\'5\\': ', '5'.isalpha())\n",
    "print('Is alpha \\'asdads\\': ', 'asdads'.isalpha())\n",
    "print('Is alpha \\'asda4ds\\': ', 'asda4ds'.isalpha())"
   ]
  },
  {
   "cell_type": "code",
   "execution_count": 309,
   "metadata": {},
   "outputs": [
    {
     "name": "stdout",
     "output_type": "stream",
     "text": [
      "['work', 'play', 'make', 'jack', 'dull', 'boy', 'nobodi', 'expect', 'spanish', 'inquisit']\n"
     ]
    }
   ],
   "source": [
    "msg = 'All work and no play makes Jack a dull boy. To be or not to be? \\\n",
    "    Nobody Expects the Spanish Inquisition!'\n",
    "msg_tokenize_lower = word_tokenize(msg.lower())\n",
    "\n",
    "stemmer = SnowballStemmer('english')\n",
    "\n",
    "filtered_msg_tokenize_lower = []\n",
    "\n",
    "for filtered_word in msg_tokenize_lower:\n",
    "    stemmed_filtered_word = stemmer.stem(filtered_word)\n",
    "    if stemmed_filtered_word not in stop_words_set and stemmed_filtered_word.isalpha():\n",
    "        filtered_msg_tokenize_lower.append(stemmed_filtered_word)\n",
    "print(filtered_msg_tokenize_lower)"
   ]
  },
  {
   "cell_type": "markdown",
   "metadata": {},
   "source": [
    "### Removing HTML tags from Emails"
   ]
  },
  {
   "cell_type": "code",
   "execution_count": 310,
   "metadata": {},
   "outputs": [
    {
     "name": "stdout",
     "output_type": "stream",
     "text": [
      "1) Fight The Risk of Cancer!\n",
      "\n",
      "http://www.adclick.ws/p.cfm?o=315&amp;s=pk007\n",
      "\n",
      "\n",
      "\n",
      "2) Slim Down - Guaranteed to lose 10-12 lbs in 30 days\n",
      "\n",
      "http://www.adclick.ws/p.cfm?o=249&amp;s=pk007\n",
      "\n",
      "\n",
      "\n",
      "3) Get the Child Support You Deserve - Free Legal Advice\n",
      "\n",
      "http://www.adclick.ws/p.cfm?o=245&amp;s=pk002\n",
      "\n",
      "\n",
      "\n",
      "4) Join the Web's Fastest Growing Singles Community\n",
      "\n",
      "http://www.adclick.ws/p.cfm?o=259&amp;s=pk007\n",
      "\n",
      "\n",
      "\n",
      "5) Start Your Private Photo Album Online!\n",
      "\n",
      "http://www.adclick.ws/p.cfm?o=283&amp;s=pk007\n",
      "\n",
      "\n",
      "\n",
      "Have a Wonderful Day,\n",
      "\n",
      "Offer Manager\n",
      "\n",
      "PrizeMama\n",
      "\n",
      "\n",
      "\n",
      "\n",
      "\n",
      "\n",
      "\n",
      "\n",
      "\n",
      "\n",
      "\n",
      "\n",
      "\n",
      "\n",
      "\n",
      "\n",
      "\n",
      "\n",
      "\n",
      "\n",
      "\n",
      "\n",
      "\n",
      "\n",
      "\n",
      "\n",
      "\n",
      "If you wish to leave this list please use the link below.\n",
      "\n",
      "http://www.qves.com/trim/?zzzz@spamassassin.taint.org%7C17%7C308417\n",
      "\n"
     ]
    }
   ],
   "source": [
    "soup = BeautifulSoup(all_emails.at[2, 'MESSAGE'], 'html.parser')\n",
    "print(soup.prettify())"
   ]
  },
  {
   "cell_type": "code",
   "execution_count": 311,
   "metadata": {},
   "outputs": [
    {
     "data": {
      "text/plain": [
       "\"1) Fight The Risk of Cancer!\\n\\nhttp://www.adclick.ws/p.cfm?o=315&s=pk007\\n\\n\\n\\n2) Slim Down - Guaranteed to lose 10-12 lbs in 30 days\\n\\nhttp://www.adclick.ws/p.cfm?o=249&s=pk007\\n\\n\\n\\n3) Get the Child Support You Deserve - Free Legal Advice\\n\\nhttp://www.adclick.ws/p.cfm?o=245&s=pk002\\n\\n\\n\\n4) Join the Web's Fastest Growing Singles Community\\n\\nhttp://www.adclick.ws/p.cfm?o=259&s=pk007\\n\\n\\n\\n5) Start Your Private Photo Album Online!\\n\\nhttp://www.adclick.ws/p.cfm?o=283&s=pk007\\n\\n\\n\\nHave a Wonderful Day,\\n\\nOffer Manager\\n\\nPrizeMama\\n\\n\\n\\n\\n\\n\\n\\n\\n\\n\\n\\n\\n\\n\\n\\n\\n\\n\\n\\n\\n\\n\\n\\n\\n\\n\\n\\nIf you wish to leave this list please use the link below.\\n\\nhttp://www.qves.com/trim/?zzzz@spamassassin.taint.org%7C17%7C308417\\n\\n\\n\""
      ]
     },
     "execution_count": 311,
     "metadata": {},
     "output_type": "execute_result"
    }
   ],
   "source": [
    "soup.get_text()"
   ]
  },
  {
   "cell_type": "markdown",
   "metadata": {},
   "source": [
    "### Functions for Email Processing"
   ]
  },
  {
   "cell_type": "code",
   "execution_count": 312,
   "metadata": {},
   "outputs": [],
   "source": [
    "def clean_message(message, stemmer=PorterStemmer(), stop_words=set(stopwords.words('english'))):\n",
    "    \n",
    "    # Converte to lower case\n",
    "    words = word_tokenize(message.lower())\n",
    "    \n",
    "    clean_words =[]\n",
    "    \n",
    "    for word in words:\n",
    "        # Remove the stop words and punctuation\n",
    "        if word not in stop_words and word.isalpha():\n",
    "            clean_words.append(stemmer.stem(word))\n",
    "    \n",
    "    \n",
    "    return clean_words"
   ]
  },
  {
   "cell_type": "code",
   "execution_count": 313,
   "metadata": {},
   "outputs": [
    {
     "data": {
      "text/plain": [
       "['dear',\n",
       " 'mr',\n",
       " 'still',\n",
       " 'good',\n",
       " 'tide',\n",
       " 'staff',\n",
       " 'festiv',\n",
       " 'season',\n",
       " 'ahead',\n",
       " 'christma',\n",
       " 'crux',\n",
       " 'fulli',\n",
       " 'qualifi',\n",
       " 'santa',\n",
       " 'clau',\n",
       " 'wonder',\n",
       " 'whether',\n",
       " 'might',\n",
       " 'consid',\n",
       " 'run',\n",
       " 'santa',\n",
       " 'grotto',\n",
       " 'store',\n",
       " 'wait',\n",
       " 'probabl',\n",
       " 'think',\n",
       " 'make',\n",
       " 'special',\n",
       " 'well',\n",
       " 'first',\n",
       " 'made',\n",
       " 'sever',\n",
       " 'chang',\n",
       " 'characteris',\n",
       " 'father',\n",
       " 'christma',\n",
       " 'rather',\n",
       " 'greet',\n",
       " 'children',\n",
       " 'shout',\n",
       " 'ho',\n",
       " 'ho',\n",
       " 'ho',\n",
       " 'prefer',\n",
       " 'whisper',\n",
       " 'phrase',\n",
       " 'depend',\n",
       " 'unfathom',\n",
       " 'cruel',\n",
       " 'world',\n",
       " 'live',\n",
       " 'addit',\n",
       " 'gift',\n",
       " 'rang',\n",
       " 'felt',\n",
       " 'hoop',\n",
       " 'holder',\n",
       " 'note',\n",
       " 'also',\n",
       " 'enclos',\n",
       " 'sketch',\n",
       " 'radic',\n",
       " 'redesign',\n",
       " 'santa',\n",
       " 'outfit',\n",
       " 'renam',\n",
       " 'charact',\n",
       " 'lord',\n",
       " 'buckl',\n",
       " 'would',\n",
       " 'interest',\n",
       " 'employ',\n",
       " 'promis',\n",
       " 'never',\n",
       " 'let',\n",
       " 'look',\n",
       " 'forward',\n",
       " 'hear',\n",
       " 'best',\n",
       " 'wish',\n",
       " 'robin',\n",
       " 'cooper',\n",
       " 'excerpt',\n",
       " 'book',\n",
       " 'timewast',\n",
       " 'letter',\n",
       " 'robin',\n",
       " 'cooper']"
      ]
     },
     "execution_count": 313,
     "metadata": {},
     "output_type": "execute_result"
    }
   ],
   "source": [
    "clean_message(email_body)"
   ]
  },
  {
   "cell_type": "code",
   "execution_count": 314,
   "metadata": {},
   "outputs": [],
   "source": [
    "def clean_message_no_html(message, stemmer=PorterStemmer(), stop_words=set(stopwords.words('english'))):\n",
    "    \n",
    "    # Remove HTML tags\n",
    "    message_no_html_soup = BeautifulSoup(message, 'html.parser')\n",
    "    cleand_html_message = message_no_html_soup.get_text()\n",
    "    \n",
    "    # Converte to lower case\n",
    "    words = word_tokenize(cleand_html_message.lower())\n",
    "    \n",
    "    clean_words = []\n",
    "    \n",
    "    for word in words:\n",
    "        # Remove the stop words and punctuation\n",
    "        if word not in stop_words and word.isalpha():\n",
    "            clean_words.append(stemmer.stem(word))\n",
    "    \n",
    "    \n",
    "    return clean_words"
   ]
  },
  {
   "cell_type": "code",
   "execution_count": 315,
   "metadata": {},
   "outputs": [
    {
     "data": {
      "text/plain": [
       "['fight',\n",
       " 'risk',\n",
       " 'cancer',\n",
       " 'http',\n",
       " 'slim',\n",
       " 'guarante',\n",
       " 'lose',\n",
       " 'lb',\n",
       " 'day',\n",
       " 'http',\n",
       " 'get',\n",
       " 'child',\n",
       " 'support',\n",
       " 'deserv',\n",
       " 'free',\n",
       " 'legal',\n",
       " 'advic',\n",
       " 'http',\n",
       " 'join',\n",
       " 'web',\n",
       " 'fastest',\n",
       " 'grow',\n",
       " 'singl',\n",
       " 'commun',\n",
       " 'http',\n",
       " 'start',\n",
       " 'privat',\n",
       " 'photo',\n",
       " 'album',\n",
       " 'onlin',\n",
       " 'http',\n",
       " 'wonder',\n",
       " 'day',\n",
       " 'offer',\n",
       " 'manag',\n",
       " 'prizemama',\n",
       " 'wish',\n",
       " 'leav',\n",
       " 'list',\n",
       " 'pleas',\n",
       " 'use',\n",
       " 'link',\n",
       " 'http',\n",
       " 'zzzz']"
      ]
     },
     "execution_count": 315,
     "metadata": {},
     "output_type": "execute_result"
    }
   ],
   "source": [
    "clean_message_no_html(all_emails.at[2, 'MESSAGE'])"
   ]
  },
  {
   "cell_type": "markdown",
   "metadata": {},
   "source": [
    "# Apply Cleaning and Tokenisation of all messages\n",
    "\n",
    "### Slicing DataFrames and Series & Ceating Subsets"
   ]
  },
  {
   "cell_type": "code",
   "execution_count": 317,
   "metadata": {},
   "outputs": [
    {
     "data": {
      "text/html": [
       "<div>\n",
       "<style scoped>\n",
       "    .dataframe tbody tr th:only-of-type {\n",
       "        vertical-align: middle;\n",
       "    }\n",
       "\n",
       "    .dataframe tbody tr th {\n",
       "        vertical-align: top;\n",
       "    }\n",
       "\n",
       "    .dataframe thead th {\n",
       "        text-align: right;\n",
       "    }\n",
       "</style>\n",
       "<table border=\"1\" class=\"dataframe\">\n",
       "  <thead>\n",
       "    <tr style=\"text-align: right;\">\n",
       "      <th></th>\n",
       "      <th>MESSAGE</th>\n",
       "      <th>CATEGORY</th>\n",
       "      <th>FILE_NAME</th>\n",
       "    </tr>\n",
       "    <tr>\n",
       "      <th>DOC_ID</th>\n",
       "      <th></th>\n",
       "      <th></th>\n",
       "      <th></th>\n",
       "    </tr>\n",
       "  </thead>\n",
       "  <tbody>\n",
       "    <tr>\n",
       "      <td>0</td>\n",
       "      <td>&lt;!DOCTYPE HTML PUBLIC \"-//W3C//DTD HTML 4.0 Tr...</td>\n",
       "      <td>1</td>\n",
       "      <td>00001.7848dde101aa985090474a91ec93fcf0</td>\n",
       "    </tr>\n",
       "    <tr>\n",
       "      <td>1</td>\n",
       "      <td>1) Fight The Risk of Cancer!\\n\\nhttp://www.adc...</td>\n",
       "      <td>1</td>\n",
       "      <td>00002.d94f1b97e48ed3b553b3508d116e6a09</td>\n",
       "    </tr>\n",
       "    <tr>\n",
       "      <td>2</td>\n",
       "      <td>1) Fight The Risk of Cancer!\\n\\nhttp://www.adc...</td>\n",
       "      <td>1</td>\n",
       "      <td>00003.2ee33bc6eacdb11f38d052c44819ba6c</td>\n",
       "    </tr>\n",
       "    <tr>\n",
       "      <td>3</td>\n",
       "      <td>##############################################...</td>\n",
       "      <td>1</td>\n",
       "      <td>00004.eac8de8d759b7e74154f142194282724</td>\n",
       "    </tr>\n",
       "    <tr>\n",
       "      <td>4</td>\n",
       "      <td>I thought you might like these:\\n\\n1) Slim Dow...</td>\n",
       "      <td>1</td>\n",
       "      <td>00005.57696a39d7d84318ce497886896bf90d</td>\n",
       "    </tr>\n",
       "  </tbody>\n",
       "</table>\n",
       "</div>"
      ],
      "text/plain": [
       "                                                  MESSAGE  CATEGORY  \\\n",
       "DOC_ID                                                                \n",
       "0       <!DOCTYPE HTML PUBLIC \"-//W3C//DTD HTML 4.0 Tr...         1   \n",
       "1       1) Fight The Risk of Cancer!\\n\\nhttp://www.adc...         1   \n",
       "2       1) Fight The Risk of Cancer!\\n\\nhttp://www.adc...         1   \n",
       "3       ##############################################...         1   \n",
       "4       I thought you might like these:\\n\\n1) Slim Dow...         1   \n",
       "\n",
       "                                     FILE_NAME  \n",
       "DOC_ID                                          \n",
       "0       00001.7848dde101aa985090474a91ec93fcf0  \n",
       "1       00002.d94f1b97e48ed3b553b3508d116e6a09  \n",
       "2       00003.2ee33bc6eacdb11f38d052c44819ba6c  \n",
       "3       00004.eac8de8d759b7e74154f142194282724  \n",
       "4       00005.57696a39d7d84318ce497886896bf90d  "
      ]
     },
     "execution_count": 317,
     "metadata": {},
     "output_type": "execute_result"
    }
   ],
   "source": [
    "all_emails.iloc[0:5]"
   ]
  },
  {
   "cell_type": "code",
   "execution_count": 318,
   "metadata": {},
   "outputs": [
    {
     "data": {
      "text/plain": [
       "DOC_ID\n",
       "0    <!DOCTYPE HTML PUBLIC \"-//W3C//DTD HTML 4.0 Tr...\n",
       "1    1) Fight The Risk of Cancer!\\n\\nhttp://www.adc...\n",
       "2    1) Fight The Risk of Cancer!\\n\\nhttp://www.adc...\n",
       "3    ##############################################...\n",
       "Name: MESSAGE, dtype: object"
      ]
     },
     "execution_count": 318,
     "metadata": {},
     "output_type": "execute_result"
    }
   ],
   "source": [
    "all_emails.MESSAGE.loc[0:3]"
   ]
  },
  {
   "cell_type": "code",
   "execution_count": 326,
   "metadata": {},
   "outputs": [
    {
     "data": {
      "text/plain": [
       "DOC_ID\n",
       "0    [save, life, insur, spend, life, quot, save, g...\n",
       "1    [fight, risk, cancer, http, slim, guarante, lo...\n",
       "2    [fight, risk, cancer, http, slim, guarante, lo...\n",
       "3    [adult, club, offer, free, membership, instant...\n",
       "Name: MESSAGE, dtype: object"
      ]
     },
     "execution_count": 326,
     "metadata": {},
     "output_type": "execute_result"
    }
   ],
   "source": [
    "# Make an array from upper table\n",
    "emails_table = all_emails.MESSAGE.loc[0:3]\n",
    "type(emails_table.apply(clean_message_no_html))\n",
    "emails_arrays = emails_table.apply(clean_message_no_html)\n",
    "emails_arrays"
   ]
  },
  {
   "cell_type": "code",
   "execution_count": 328,
   "metadata": {},
   "outputs": [
    {
     "data": {
      "text/plain": [
       "['save',\n",
       " 'life',\n",
       " 'insur',\n",
       " 'spend',\n",
       " 'life',\n",
       " 'quot',\n",
       " 'save',\n",
       " 'g',\n",
       " 'famili',\n",
       " 'financi',\n",
       " 'secur',\n",
       " 'import',\n",
       " 'life',\n",
       " 'quot',\n",
       " 'save',\n",
       " 'ke',\n",
       " 'buy',\n",
       " 'life',\n",
       " 'insur',\n",
       " 'simpl',\n",
       " 'afford',\n",
       " 'provid',\n",
       " 'free',\n",
       " 'access',\n",
       " 'best',\n",
       " 'compani',\n",
       " 'lowest',\n",
       " 'rate',\n",
       " 'life',\n",
       " 'quot',\n",
       " 'save',\n",
       " 'fast',\n",
       " 'save',\n",
       " 'money',\n",
       " 'let',\n",
       " 'us',\n",
       " 'help',\n",
       " 'get',\n",
       " 'start',\n",
       " 'best',\n",
       " 'ue',\n",
       " 'countri',\n",
       " 'new',\n",
       " 'coverag',\n",
       " 'save',\n",
       " 'hundr',\n",
       " 'even',\n",
       " 'usand',\n",
       " 'dollar',\n",
       " 'request',\n",
       " 'free',\n",
       " 'quot',\n",
       " 'lifequot',\n",
       " 'save',\n",
       " 'servic',\n",
       " 'take',\n",
       " 'less',\n",
       " 'minut',\n",
       " 'complet',\n",
       " 'shop',\n",
       " 'compar',\n",
       " 'save',\n",
       " 'type',\n",
       " 'life',\n",
       " 'insur',\n",
       " 'click',\n",
       " 'free',\n",
       " 'quot',\n",
       " 'protect',\n",
       " 'famili',\n",
       " 'best',\n",
       " 'invest',\n",
       " 'r',\n",
       " 'make',\n",
       " 'receipt',\n",
       " 'email',\n",
       " 'error',\n",
       " 'wish',\n",
       " 'remov',\n",
       " 'list',\n",
       " 'pleas',\n",
       " 'click',\n",
       " 'type',\n",
       " 'remov',\n",
       " 'resid',\n",
       " 'state',\n",
       " 'prohibit',\n",
       " 'solicit',\n",
       " 'ce',\n",
       " 'pleas',\n",
       " 'disregard',\n",
       " 'email',\n",
       " 'fight',\n",
       " 'risk',\n",
       " 'cancer',\n",
       " 'http',\n",
       " 'slim',\n",
       " 'guarante',\n",
       " 'lose',\n",
       " 'lb',\n",
       " 'day',\n",
       " 'http',\n",
       " 'get',\n",
       " 'child',\n",
       " 'support',\n",
       " 'deserv',\n",
       " 'free',\n",
       " 'legal',\n",
       " 'advic',\n",
       " 'http',\n",
       " 'join',\n",
       " 'web',\n",
       " 'fastest',\n",
       " 'grow',\n",
       " 'singl',\n",
       " 'commun',\n",
       " 'http',\n",
       " 'start',\n",
       " 'privat',\n",
       " 'photo',\n",
       " 'album',\n",
       " 'onlin',\n",
       " 'http',\n",
       " 'wonder',\n",
       " 'day',\n",
       " 'offer',\n",
       " 'manag',\n",
       " 'prizemama',\n",
       " 'wish',\n",
       " 'leav',\n",
       " 'list',\n",
       " 'pleas',\n",
       " 'use',\n",
       " 'link',\n",
       " 'http',\n",
       " 'ilug',\n",
       " 'irish',\n",
       " 'linux',\n",
       " 'user',\n",
       " 'group',\n",
       " 'ilug',\n",
       " 'http',\n",
       " 'un',\n",
       " 'subscript',\n",
       " 'inform',\n",
       " 'list',\n",
       " 'maintain',\n",
       " 'listmast',\n",
       " 'fight',\n",
       " 'risk',\n",
       " 'cancer',\n",
       " 'http',\n",
       " 'slim',\n",
       " 'guarante',\n",
       " 'lose',\n",
       " 'lb',\n",
       " 'day',\n",
       " 'http',\n",
       " 'get',\n",
       " 'child',\n",
       " 'support',\n",
       " 'deserv',\n",
       " 'free',\n",
       " 'legal',\n",
       " 'advic',\n",
       " 'http',\n",
       " 'join',\n",
       " 'web',\n",
       " 'fastest',\n",
       " 'grow',\n",
       " 'singl',\n",
       " 'commun',\n",
       " 'http',\n",
       " 'start',\n",
       " 'privat',\n",
       " 'photo',\n",
       " 'album',\n",
       " 'onlin',\n",
       " 'http',\n",
       " 'wonder',\n",
       " 'day',\n",
       " 'offer',\n",
       " 'manag',\n",
       " 'prizemama',\n",
       " 'wish',\n",
       " 'leav',\n",
       " 'list',\n",
       " 'pleas',\n",
       " 'use',\n",
       " 'link',\n",
       " 'http',\n",
       " 'zzzz',\n",
       " 'adult',\n",
       " 'club',\n",
       " 'offer',\n",
       " 'free',\n",
       " 'membership',\n",
       " 'instant',\n",
       " 'access',\n",
       " 'site',\n",
       " 'user',\n",
       " 'name',\n",
       " 'password',\n",
       " 'user',\n",
       " 'name',\n",
       " 'zzzz',\n",
       " 'password',\n",
       " 'best',\n",
       " 'adult',\n",
       " 'site',\n",
       " 'internet',\n",
       " 'free',\n",
       " 'news',\n",
       " 'million',\n",
       " 'member',\n",
       " 'sign',\n",
       " 'free',\n",
       " 'last',\n",
       " 'month',\n",
       " 'new',\n",
       " 'member',\n",
       " 'one',\n",
       " 'yet',\n",
       " 'membership',\n",
       " 'faq',\n",
       " 'offer',\n",
       " 'free',\n",
       " 'access',\n",
       " 'adult',\n",
       " 'membership',\n",
       " 'site',\n",
       " 'free',\n",
       " 'advertis',\n",
       " 'pay',\n",
       " 'ad',\n",
       " 'space',\n",
       " 'pay',\n",
       " 'membership',\n",
       " 'true',\n",
       " 'membership',\n",
       " 'life',\n",
       " 'absolut',\n",
       " 'never',\n",
       " 'pay',\n",
       " 'cent',\n",
       " 'advertis',\n",
       " 'give',\n",
       " 'account',\n",
       " 'friend',\n",
       " 'famili',\n",
       " 'ye',\n",
       " 'long',\n",
       " 'age',\n",
       " 'sign',\n",
       " 'membership',\n",
       " 'site',\n",
       " 'one',\n",
       " 'get',\n",
       " 'access',\n",
       " 'get',\n",
       " 'start',\n",
       " 'click',\n",
       " 'one',\n",
       " 'follow',\n",
       " 'link',\n",
       " 'becom',\n",
       " 'member',\n",
       " 'multi',\n",
       " 'million',\n",
       " 'dollar',\n",
       " 'oper',\n",
       " 'polici',\n",
       " 'rule',\n",
       " 'fill',\n",
       " 'requir',\n",
       " 'info',\n",
       " 'wo',\n",
       " 'charg',\n",
       " 'free',\n",
       " 'pass',\n",
       " 'believ',\n",
       " 'us',\n",
       " 'read',\n",
       " 'term',\n",
       " 'condit',\n",
       " 'adult',\n",
       " 'farm',\n",
       " 'http',\n",
       " 'girl',\n",
       " 'anim',\n",
       " 'get',\n",
       " 'freaki',\n",
       " 'lifetim',\n",
       " 'membership',\n",
       " 'sexi',\n",
       " 'celeb',\n",
       " 'http',\n",
       " 'thousand',\n",
       " 'xxx',\n",
       " 'celeb',\n",
       " 'free',\n",
       " 'lifetim',\n",
       " 'membership',\n",
       " 'play',\n",
       " 'hous',\n",
       " 'porn',\n",
       " 'http',\n",
       " 'live',\n",
       " 'feed',\n",
       " 'site',\n",
       " 'web',\n",
       " 'cam',\n",
       " 'free',\n",
       " 'lifetim',\n",
       " 'membership',\n",
       " 'asian',\n",
       " 'sex',\n",
       " 'fantasi',\n",
       " 'http',\n",
       " 'japanes',\n",
       " 'schoolgirl',\n",
       " 'live',\n",
       " 'sex',\n",
       " 'show',\n",
       " 'free',\n",
       " 'lifetim',\n",
       " 'membership',\n",
       " 'lesbian',\n",
       " 'lace',\n",
       " 'http',\n",
       " 'girl',\n",
       " 'girl',\n",
       " 'get',\n",
       " 'freaki',\n",
       " 'free',\n",
       " 'lifetim',\n",
       " 'membership',\n",
       " 'jennif',\n",
       " 'simpson',\n",
       " 'miami',\n",
       " 'fl',\n",
       " 'free',\n",
       " 'lifetim',\n",
       " 'membership',\n",
       " 'entertain',\n",
       " 'boyffriend',\n",
       " 'last',\n",
       " 'two',\n",
       " 'year',\n",
       " 'adult',\n",
       " 'site',\n",
       " 'best',\n",
       " 'net',\n",
       " 'joe',\n",
       " 'morgan',\n",
       " 'manhattan',\n",
       " 'ny',\n",
       " 'live',\n",
       " 'sex',\n",
       " 'show',\n",
       " 'live',\n",
       " 'sex',\n",
       " 'cam',\n",
       " 'unbeliev',\n",
       " 'best',\n",
       " 'part',\n",
       " 'porn',\n",
       " 'site',\n",
       " 'absolut',\n",
       " 'free',\n",
       " 'remov',\n",
       " 'instruct',\n",
       " 'receiv',\n",
       " 'advertis',\n",
       " 'opt',\n",
       " 'receiv',\n",
       " 'free',\n",
       " 'adult',\n",
       " 'internet',\n",
       " 'offer',\n",
       " 'special',\n",
       " 'affili',\n",
       " 'websit',\n",
       " 'wish',\n",
       " 'receiv',\n",
       " 'email',\n",
       " 'receiv',\n",
       " 'email',\n",
       " 'error',\n",
       " 'may',\n",
       " 'databas',\n",
       " 'http',\n",
       " 'pleas',\n",
       " 'allow',\n",
       " 'hour',\n",
       " 'remov',\n",
       " 'vonolmosatkirekpup']"
      ]
     },
     "execution_count": 328,
     "metadata": {},
     "output_type": "execute_result"
    }
   ],
   "source": [
    "flat_emails_arrays = [item for sublist in emails_arrays for item in sublist]\n",
    "len(flat_emails_arrays)\n",
    "flat_emails_arrays"
   ]
  },
  {
   "cell_type": "code",
   "execution_count": 331,
   "metadata": {},
   "outputs": [
    {
     "name": "stdout",
     "output_type": "stream",
     "text": [
      "Wall time: 35.7 s\n"
     ]
    }
   ],
   "source": [
    "%%time\n",
    "# Make an array from upper table\n",
    "\n",
    "emails_table = all_emails.MESSAGE.apply(clean_message_no_html)\n"
   ]
  },
  {
   "cell_type": "code",
   "execution_count": 334,
   "metadata": {},
   "outputs": [
    {
     "data": {
      "text/plain": [
       "DOC_ID\n",
       "0    [save, life, insur, spend, life, quot, save, g...\n",
       "1    [fight, risk, cancer, http, slim, guarante, lo...\n",
       "2    [fight, risk, cancer, http, slim, guarante, lo...\n",
       "3    [adult, club, offer, free, membership, instant...\n",
       "4    [thought, might, like, slim, guarante, lose, l...\n",
       "Name: MESSAGE, dtype: object"
      ]
     },
     "execution_count": 334,
     "metadata": {},
     "output_type": "execute_result"
    }
   ],
   "source": [
    "emails_table.head()"
   ]
  },
  {
   "cell_type": "code",
   "execution_count": null,
   "metadata": {},
   "outputs": [],
   "source": []
  }
 ],
 "metadata": {
  "kernelspec": {
   "display_name": "Python 3",
   "language": "python",
   "name": "python3"
  },
  "language_info": {
   "codemirror_mode": {
    "name": "ipython",
    "version": 3
   },
   "file_extension": ".py",
   "mimetype": "text/x-python",
   "name": "python",
   "nbconvert_exporter": "python",
   "pygments_lexer": "ipython3",
   "version": "3.7.4"
  }
 },
 "nbformat": 4,
 "nbformat_minor": 2
}
