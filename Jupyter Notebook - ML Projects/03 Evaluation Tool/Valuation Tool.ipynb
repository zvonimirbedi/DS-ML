{
 "cells": [
  {
   "cell_type": "code",
   "execution_count": 1,
   "metadata": {},
   "outputs": [],
   "source": [
    "from sklearn.datasets import load_boston\n",
    "from sklearn.linear_model import LinearRegression\n",
    "from sklearn.metrics import mean_squared_error\n",
    "\n",
    "import pandas as pd\n",
    "import numpy as np\n",
    "\n",
    "\n",
    "%matplotlib inline"
   ]
  },
  {
   "cell_type": "code",
   "execution_count": 14,
   "metadata": {},
   "outputs": [],
   "source": [
    "# Gather Data\n",
    "boston_dataset = load_boston()\n",
    "data = pd.DataFrame(data=boston_dataset.data, columns=boston_dataset.feature_names)\n",
    "features = data.drop(['INDUS', 'AGE'], axis=1)\n",
    "# print(data.head())\n",
    "\n",
    "log_prices = np.log(boston_dataset.target)\n",
    "target = pd.DataFrame(log_prices, columns= ['PRICE'])"
   ]
  },
  {
   "cell_type": "code",
   "execution_count": 63,
   "metadata": {
    "scrolled": true
   },
   "outputs": [
    {
     "name": "stdout",
     "output_type": "stream",
     "text": [
      "Average (or mean): \n",
      " CRIM         3.613524\n",
      "ZN          11.363636\n",
      "CHAS         0.069170\n",
      "NOX          0.554695\n",
      "RM           6.284634\n",
      "DIS          3.795043\n",
      "RAD          9.549407\n",
      "TAX        408.237154\n",
      "PTRATIO     18.455534\n",
      "B          356.674032\n",
      "LSTAT       12.653063\n",
      "dtype: float64\n"
     ]
    },
    {
     "data": {
      "text/plain": [
       "array([[3.61352356e+00, 1.13636364e+01, 6.91699605e-02, 5.54695059e-01,\n",
       "        6.28463439e+00, 3.79504269e+00, 9.54940711e+00, 4.08237154e+02,\n",
       "        1.84555336e+01, 3.56674032e+02, 1.26530632e+01]])"
      ]
     },
     "execution_count": 63,
     "metadata": {},
     "output_type": "execute_result"
    }
   ],
   "source": [
    "type(features.mean())\n",
    "print('Average (or mean): \\n',features.mean())\n",
    "\n",
    "property_stats = features.mean().values.reshape(1, 11)\n",
    "features.mean().values.reshape(1, 11)"
   ]
  },
  {
   "cell_type": "code",
   "execution_count": 66,
   "metadata": {},
   "outputs": [],
   "source": [
    "regression = LinearRegression().fit(features, target)\n",
    "predicted_fitted_vals = regression.predict(features)\n",
    "\n",
    "MSE = mean_squared_error(target, predicted_fitted_vals)\n",
    "RMSE = np.sqrt(MSE)"
   ]
  },
  {
   "cell_type": "code",
   "execution_count": 67,
   "metadata": {},
   "outputs": [],
   "source": [
    "def get_log_estimate(num_rooms,\n",
    "                    students_per_classroom,\n",
    "                    next_to_river = False,\n",
    "                    high_confidence = True):\n",
    "    #configure property\n",
    "    property_stats[0][4] = num_rooms\n",
    "    property_stats[0][8] = students_per_classroom\n",
    "    if next_to_river:\n",
    "        property_stats[0][2] = 1\n",
    "    else:\n",
    "        property_stats[0][2] = 0\n",
    "    \n",
    "    \n",
    "    \n",
    "    #make prediction    \n",
    "    log_estimate = regression.predict(property_stats)[0][0]\n",
    "    \n",
    "    #calc Range\n",
    "    if high_confidence:\n",
    "        upper_bound = log_estimate + 2*RMSE\n",
    "        lower_bound = log_estimate - 2*RMSE\n",
    "        interval = 95 #%\n",
    "    else:\n",
    "        upper_bound = log_estimate + RMSE\n",
    "        lower_bound = log_estimate - RMSE\n",
    "        interval = 68 #%\n",
    "    \n",
    "    return log_estimate, upper_bound, lower_bound, interval"
   ]
  },
  {
   "cell_type": "code",
   "execution_count": 71,
   "metadata": {},
   "outputs": [
    {
     "name": "stdout",
     "output_type": "stream",
     "text": [
      "The estimated property value is 827000.0$.\n",
      "The confidence is 68%.\n",
      "The estimated lower property value is 685000.0$ and upper value is 997000.0$.\n"
     ]
    }
   ],
   "source": [
    "MEDIAN_2019 = 583.3\n",
    "INFLATION = MEDIAN_2019 / np.median(boston_dataset.target)"
   ]
  },
  {
   "cell_type": "code",
   "execution_count": 86,
   "metadata": {},
   "outputs": [],
   "source": [
    "def get_dollar_estimate(num_rooms,\n",
    "                    students_per_classroom,\n",
    "                    next_to_river = False,\n",
    "                    high_confidence = True):\n",
    "    \"\"\"\n",
    "    Estimate the price of the property of the Boston City\n",
    "    \n",
    "    Keyword arguments:\n",
    "        num_rooms - number of rooms in the property\n",
    "        students_per_classroom - number of students per teacher in the classroom for the school in the area\n",
    "        next_to_river - Property next to the river; True or False\n",
    "        high_confidence = Prediction interval; True: 95% and False: 68%\n",
    "    \"\"\"\n",
    "    \n",
    "    if num_rooms < 1 or students_per_classroom < 1:\n",
    "        print('Unrealistic data, try again with other...')\n",
    "        return\n",
    "    \n",
    "    \n",
    "    log_est, upper_price, lower_price, confidance = get_log_estimate(\n",
    "    num_rooms, \n",
    "    students_per_classroom=students_per_classroom, \n",
    "    next_to_river = next_to_river, \n",
    "    high_confidence = high_confidence)\n",
    "\n",
    "    #calculate to todays value\n",
    "    dollar_est = np.e**log_est * 1000 * INFLATION\n",
    "    dollar_est_upper = np.e**upper_price * 1000 * INFLATION\n",
    "    dollar_est_lower = np.e**lower_price * 1000 * INFLATION\n",
    "    # round the dollar values to nerest thousand\n",
    "    round_dollar_est = np.around(dollar_est, -3)\n",
    "    round_dollar_est_upper = np.around(dollar_est_upper, -3)\n",
    "    round_dollar_est_lower = np.around(dollar_est_lower, -3)\n",
    "\n",
    "    print(f'The estimated property value is {round_dollar_est} USD.')\n",
    "    print(f'The confidence is {confidance}%.')\n",
    "    print(f'The estimated lower property value is {round_dollar_est_lower} USD and upper value is {round_dollar_est_upper} USD.')"
   ]
  },
  {
   "cell_type": "code",
   "execution_count": 84,
   "metadata": {},
   "outputs": [
    {
     "name": "stdout",
     "output_type": "stream",
     "text": [
      "The estimated property value is 278000.0 USD.\n",
      "The confidence is 95%.\n",
      "The estimated lower property value is 191000.0 USD and upper value is 404000.0 USD.\n"
     ]
    }
   ],
   "source": [
    "get_dollar_estimate(num_rooms = 2, students_per_classroom = 30, next_to_river = True)"
   ]
  },
  {
   "cell_type": "code",
   "execution_count": 2,
   "metadata": {},
   "outputs": [
    {
     "name": "stdout",
     "output_type": "stream",
     "text": [
      "Average (or mean): \n",
      " CRIM         3.613524\n",
      "ZN          11.363636\n",
      "CHAS         0.069170\n",
      "NOX          0.554695\n",
      "RM           6.284634\n",
      "DIS          3.795043\n",
      "RAD          9.549407\n",
      "TAX        408.237154\n",
      "PTRATIO     18.455534\n",
      "B          356.674032\n",
      "LSTAT       12.653063\n",
      "dtype: float64\n",
      "The estimated property value is 278000.0 USD.\n",
      "The confidence is 95%.\n",
      "The estimated lower property value is 191000.0 USD and upper value is 404000.0 USD.\n"
     ]
    }
   ],
   "source": [
    "import boston_valuation as val\n",
    "val.get_dollar_estimate(num_rooms = 2, students_per_classroom = 30, next_to_river = True)"
   ]
  },
  {
   "cell_type": "code",
   "execution_count": null,
   "metadata": {},
   "outputs": [],
   "source": []
  }
 ],
 "metadata": {
  "kernelspec": {
   "display_name": "Python 3",
   "language": "python",
   "name": "python3"
  },
  "language_info": {
   "codemirror_mode": {
    "name": "ipython",
    "version": 3
   },
   "file_extension": ".py",
   "mimetype": "text/x-python",
   "name": "python",
   "nbconvert_exporter": "python",
   "pygments_lexer": "ipython3",
   "version": "3.7.4"
  }
 },
 "nbformat": 4,
 "nbformat_minor": 2
}
